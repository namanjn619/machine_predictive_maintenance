{
 "cells": [
  {
   "cell_type": "markdown",
   "id": "ece15897-1e3a-4ee0-b1dd-e9f40b5129e5",
   "metadata": {},
   "source": [
    "## Getting the Essential Libraries"
   ]
  },
  {
   "cell_type": "code",
   "execution_count": 40,
   "id": "78c05147-f337-4d4b-99f8-80f736924838",
   "metadata": {},
   "outputs": [],
   "source": [
    "import numpy as np\n",
    "import pandas as pd\n",
    "import os\n",
    "import seaborn as sns\n",
    "import matplotlib.pyplot as plt\n",
    "from sklearn.model_selection import train_test_split\n",
    "from sklearn.metrics import accuracy_score,classification_report,confusion_matrix,ConfusionMatrixDisplay\n",
    "from sklearn.linear_model import LogisticRegression\n",
    "from sklearn.tree import DecisionTreeClassifier\n",
    "from sklearn.ensemble import RandomForestClassifier\n",
    "from sklearn.svm import SVC\n",
    "\n",
    "import warnings\n",
    "warnings.filterwarnings(\"ignore\")"
   ]
  },
  {
   "cell_type": "markdown",
   "id": "3fc35789-9d92-4883-88df-e671b4053b13",
   "metadata": {},
   "source": [
    "## Loading the Dataset"
   ]
  },
  {
   "cell_type": "code",
   "execution_count": 2,
   "id": "ea8014b1-1248-4545-9b90-37e9e1689b75",
   "metadata": {},
   "outputs": [],
   "source": [
    "dataset = pd.read_csv('cleaned_dataset.csv')"
   ]
  },
  {
   "cell_type": "code",
   "execution_count": 3,
   "id": "c6705cb1-dcf8-4663-a78b-0a337d9c4a07",
   "metadata": {},
   "outputs": [
    {
     "data": {
      "text/html": [
       "<div>\n",
       "<style scoped>\n",
       "    .dataframe tbody tr th:only-of-type {\n",
       "        vertical-align: middle;\n",
       "    }\n",
       "\n",
       "    .dataframe tbody tr th {\n",
       "        vertical-align: top;\n",
       "    }\n",
       "\n",
       "    .dataframe thead th {\n",
       "        text-align: right;\n",
       "    }\n",
       "</style>\n",
       "<table border=\"1\" class=\"dataframe\">\n",
       "  <thead>\n",
       "    <tr style=\"text-align: right;\">\n",
       "      <th></th>\n",
       "      <th>Target</th>\n",
       "      <th>Temperature Difference [C]</th>\n",
       "      <th>Type</th>\n",
       "      <th>Failure Type</th>\n",
       "      <th>Rotational speed [rpm]</th>\n",
       "      <th>Torque [Nm]</th>\n",
       "      <th>Air temperature [C]</th>\n",
       "      <th>Process temperature [C]</th>\n",
       "      <th>Tool wear [min]</th>\n",
       "    </tr>\n",
       "  </thead>\n",
       "  <tbody>\n",
       "    <tr>\n",
       "      <th>0</th>\n",
       "      <td>0.0</td>\n",
       "      <td>10.5</td>\n",
       "      <td>1.0</td>\n",
       "      <td>0.0</td>\n",
       "      <td>0.253968</td>\n",
       "      <td>0.200000</td>\n",
       "      <td>0.304348</td>\n",
       "      <td>0.358025</td>\n",
       "      <td>0.000000</td>\n",
       "    </tr>\n",
       "    <tr>\n",
       "      <th>1</th>\n",
       "      <td>0.0</td>\n",
       "      <td>10.5</td>\n",
       "      <td>0.0</td>\n",
       "      <td>0.0</td>\n",
       "      <td>-0.502646</td>\n",
       "      <td>0.459259</td>\n",
       "      <td>0.315217</td>\n",
       "      <td>0.370370</td>\n",
       "      <td>0.011858</td>\n",
       "    </tr>\n",
       "    <tr>\n",
       "      <th>2</th>\n",
       "      <td>0.0</td>\n",
       "      <td>10.4</td>\n",
       "      <td>0.0</td>\n",
       "      <td>0.0</td>\n",
       "      <td>-0.026455</td>\n",
       "      <td>0.688889</td>\n",
       "      <td>0.304348</td>\n",
       "      <td>0.345679</td>\n",
       "      <td>0.019763</td>\n",
       "    </tr>\n",
       "    <tr>\n",
       "      <th>3</th>\n",
       "      <td>0.0</td>\n",
       "      <td>10.4</td>\n",
       "      <td>0.0</td>\n",
       "      <td>0.0</td>\n",
       "      <td>-0.370370</td>\n",
       "      <td>-0.044444</td>\n",
       "      <td>0.315217</td>\n",
       "      <td>0.358025</td>\n",
       "      <td>0.027668</td>\n",
       "    </tr>\n",
       "    <tr>\n",
       "      <th>4</th>\n",
       "      <td>0.0</td>\n",
       "      <td>10.5</td>\n",
       "      <td>0.0</td>\n",
       "      <td>0.0</td>\n",
       "      <td>-0.502646</td>\n",
       "      <td>-0.007407</td>\n",
       "      <td>0.315217</td>\n",
       "      <td>0.370370</td>\n",
       "      <td>0.035573</td>\n",
       "    </tr>\n",
       "    <tr>\n",
       "      <th>...</th>\n",
       "      <td>...</td>\n",
       "      <td>...</td>\n",
       "      <td>...</td>\n",
       "      <td>...</td>\n",
       "      <td>...</td>\n",
       "      <td>...</td>\n",
       "      <td>...</td>\n",
       "      <td>...</td>\n",
       "      <td>...</td>\n",
       "    </tr>\n",
       "    <tr>\n",
       "      <th>9941</th>\n",
       "      <td>0.0</td>\n",
       "      <td>9.6</td>\n",
       "      <td>0.0</td>\n",
       "      <td>0.0</td>\n",
       "      <td>0.534392</td>\n",
       "      <td>-0.785185</td>\n",
       "      <td>0.380435</td>\n",
       "      <td>0.333333</td>\n",
       "      <td>0.055336</td>\n",
       "    </tr>\n",
       "    <tr>\n",
       "      <th>9942</th>\n",
       "      <td>0.0</td>\n",
       "      <td>9.7</td>\n",
       "      <td>0.0</td>\n",
       "      <td>0.0</td>\n",
       "      <td>0.682540</td>\n",
       "      <td>-0.614815</td>\n",
       "      <td>0.391304</td>\n",
       "      <td>0.333333</td>\n",
       "      <td>0.067194</td>\n",
       "    </tr>\n",
       "    <tr>\n",
       "      <th>9943</th>\n",
       "      <td>0.0</td>\n",
       "      <td>9.7</td>\n",
       "      <td>2.0</td>\n",
       "      <td>0.0</td>\n",
       "      <td>0.751323</td>\n",
       "      <td>-0.496296</td>\n",
       "      <td>0.402174</td>\n",
       "      <td>0.358025</td>\n",
       "      <td>0.086957</td>\n",
       "    </tr>\n",
       "    <tr>\n",
       "      <th>9944</th>\n",
       "      <td>0.0</td>\n",
       "      <td>9.7</td>\n",
       "      <td>2.0</td>\n",
       "      <td>0.0</td>\n",
       "      <td>-0.502646</td>\n",
       "      <td>0.622222</td>\n",
       "      <td>0.402174</td>\n",
       "      <td>0.370370</td>\n",
       "      <td>0.098814</td>\n",
       "    </tr>\n",
       "    <tr>\n",
       "      <th>9945</th>\n",
       "      <td>0.0</td>\n",
       "      <td>9.6</td>\n",
       "      <td>0.0</td>\n",
       "      <td>0.0</td>\n",
       "      <td>-0.015873</td>\n",
       "      <td>0.007407</td>\n",
       "      <td>0.402174</td>\n",
       "      <td>0.370370</td>\n",
       "      <td>0.118577</td>\n",
       "    </tr>\n",
       "  </tbody>\n",
       "</table>\n",
       "<p>9946 rows × 9 columns</p>\n",
       "</div>"
      ],
      "text/plain": [
       "      Target  Temperature Difference [C]  Type  Failure Type  \\\n",
       "0        0.0                        10.5   1.0           0.0   \n",
       "1        0.0                        10.5   0.0           0.0   \n",
       "2        0.0                        10.4   0.0           0.0   \n",
       "3        0.0                        10.4   0.0           0.0   \n",
       "4        0.0                        10.5   0.0           0.0   \n",
       "...      ...                         ...   ...           ...   \n",
       "9941     0.0                         9.6   0.0           0.0   \n",
       "9942     0.0                         9.7   0.0           0.0   \n",
       "9943     0.0                         9.7   2.0           0.0   \n",
       "9944     0.0                         9.7   2.0           0.0   \n",
       "9945     0.0                         9.6   0.0           0.0   \n",
       "\n",
       "      Rotational speed [rpm]  Torque [Nm]  Air temperature [C]  \\\n",
       "0                   0.253968     0.200000             0.304348   \n",
       "1                  -0.502646     0.459259             0.315217   \n",
       "2                  -0.026455     0.688889             0.304348   \n",
       "3                  -0.370370    -0.044444             0.315217   \n",
       "4                  -0.502646    -0.007407             0.315217   \n",
       "...                      ...          ...                  ...   \n",
       "9941                0.534392    -0.785185             0.380435   \n",
       "9942                0.682540    -0.614815             0.391304   \n",
       "9943                0.751323    -0.496296             0.402174   \n",
       "9944               -0.502646     0.622222             0.402174   \n",
       "9945               -0.015873     0.007407             0.402174   \n",
       "\n",
       "      Process temperature [C]  Tool wear [min]  \n",
       "0                    0.358025         0.000000  \n",
       "1                    0.370370         0.011858  \n",
       "2                    0.345679         0.019763  \n",
       "3                    0.358025         0.027668  \n",
       "4                    0.370370         0.035573  \n",
       "...                       ...              ...  \n",
       "9941                 0.333333         0.055336  \n",
       "9942                 0.333333         0.067194  \n",
       "9943                 0.358025         0.086957  \n",
       "9944                 0.370370         0.098814  \n",
       "9945                 0.370370         0.118577  \n",
       "\n",
       "[9946 rows x 9 columns]"
      ]
     },
     "execution_count": 3,
     "metadata": {},
     "output_type": "execute_result"
    }
   ],
   "source": [
    "dataset"
   ]
  },
  {
   "cell_type": "markdown",
   "id": "3e889d15-ebe0-41d9-8ce9-57c11457ae9f",
   "metadata": {},
   "source": [
    "## Train Test Split"
   ]
  },
  {
   "cell_type": "code",
   "execution_count": 6,
   "id": "15ee2a26-5a25-49be-af11-b81fc7e75d13",
   "metadata": {},
   "outputs": [],
   "source": [
    "X = dataset.drop(['Target', 'Failure Type'], axis=1)\n",
    "y = dataset['Target']"
   ]
  },
  {
   "cell_type": "code",
   "execution_count": 7,
   "id": "61437333-8727-473e-95f1-b42fc88e3c0b",
   "metadata": {},
   "outputs": [],
   "source": [
    "X_train,X_test,y_train,y_test = train_test_split(X,y,test_size=0.2,random_state=42)"
   ]
  },
  {
   "cell_type": "markdown",
   "id": "b5f48a4b-24c2-4d0e-8a41-df8f5ccc179f",
   "metadata": {},
   "source": [
    "## Model Building"
   ]
  },
  {
   "cell_type": "markdown",
   "id": "beeb00e7-ff6f-4996-81c6-e22d72408d61",
   "metadata": {},
   "source": [
    "### 1) Logistic Regression"
   ]
  },
  {
   "cell_type": "code",
   "execution_count": 16,
   "id": "88a57cb8-0979-4bc0-915f-6dfe3e6032f0",
   "metadata": {},
   "outputs": [
    {
     "name": "stdout",
     "output_type": "stream",
     "text": [
      "Training Accuracy    : 96.71 %\n",
      "Model Accuracy Score : 96.63 %\n",
      "\u001b[1m--------------------------------------------------------\u001b[0m\n",
      "Classification_Report: \n",
      "               precision    recall  f1-score   support\n",
      "\n",
      "         0.0       0.97      1.00      0.98      1923\n",
      "         1.0       0.00      0.00      0.00        67\n",
      "\n",
      "    accuracy                           0.97      1990\n",
      "   macro avg       0.48      0.50      0.49      1990\n",
      "weighted avg       0.93      0.97      0.95      1990\n",
      "\n",
      "\u001b[1m--------------------------------------------------------\u001b[0m\n"
     ]
    },
    {
     "data": {
      "image/png": "[encoded data removed]",
      "text/plain": [
       "<Figure size 640x480 with 2 Axes>"
      ]
     },
     "metadata": {},
     "output_type": "display_data"
    }
   ],
   "source": [
    "# Logistic Regression\n",
    "logreg = LogisticRegression()\n",
    "logreg.fit(X_train, y_train)\n",
    "y_pred_lr = logreg.predict(X_test)\n",
    "\n",
    "log_train = round(logreg.score(X_train, y_train) * 100, 2)\n",
    "log_accuracy = round(accuracy_score(y_pred_lr, y_test) * 100, 2)\n",
    "\n",
    "\n",
    "print(\"Training Accuracy    :\",log_train ,\"%\")\n",
    "print(\"Model Accuracy Score :\",log_accuracy ,\"%\")\n",
    "print(\"\\033[1m--------------------------------------------------------\\033[0m\")\n",
    "print(\"Classification_Report: \\n\",classification_report(y_test,y_pred_lr))\n",
    "print(\"\\033[1m--------------------------------------------------------\\033[0m\")\n",
    "cm = confusion_matrix(y_test, y_pred_lr)\n",
    "# Display the confusion matrix\n",
    "disp = ConfusionMatrixDisplay(confusion_matrix=cm)\n",
    "disp.plot()\n",
    "# Show the plot\n",
    "plt.show()"
   ]
  },
  {
   "cell_type": "markdown",
   "id": "a6f4dca8-3c6f-4eab-8e86-7a6cf8714852",
   "metadata": {
    "jp-MarkdownHeadingCollapsed": true
   },
   "source": [
    "### 2) Decision Tree Classifier"
   ]
  },
  {
   "cell_type": "code",
   "execution_count": 34,
   "id": "5593c514-5926-4e6d-bdc1-8baddede0e48",
   "metadata": {},
   "outputs": [
    {
     "name": "stdout",
     "output_type": "stream",
     "text": [
      "Training Accuracy    : 100.0 %\n",
      "Model Accuracy Score : 97.65 %\n",
      "\u001b[1m--------------------------------------------------------\u001b[0m\n",
      "Classification_Report: \n",
      "               precision    recall  f1-score   support\n",
      "\n",
      "           0       0.99      0.99      0.99      1939\n",
      "           1       0.60      0.70      0.65        61\n",
      "\n",
      "    accuracy                           0.98      2000\n",
      "   macro avg       0.79      0.84      0.82      2000\n",
      "weighted avg       0.98      0.98      0.98      2000\n",
      "\n",
      "\u001b[1m--------------------------------------------------------\u001b[0m\n"
     ]
    },
    {
     "data": {
      "image/png": "[encoded data removed]",
      "text/plain": [
       "<Figure size 640x480 with 2 Axes>"
      ]
     },
     "metadata": {},
     "output_type": "display_data"
    }
   ],
   "source": [
    "# Decision Tree\n",
    "decision = DecisionTreeClassifier()\n",
    "decision.fit(X_train, y_train)\n",
    "y_pred_dec = decision.predict(X_test)\n",
    "\n",
    "decision_train = round(decision.score(X_train, y_train) * 100, 2)\n",
    "decision_accuracy = round(accuracy_score(y_pred_dec, y_test) * 100, 2)\n",
    "\n",
    "print(\"Training Accuracy    :\",decision_train ,\"%\")\n",
    "print(\"Model Accuracy Score :\",decision_accuracy ,\"%\")\n",
    "print(\"\\033[1m--------------------------------------------------------\\033[0m\")\n",
    "print(\"Classification_Report: \\n\",classification_report(y_test,y_pred_dec))\n",
    "print(\"\\033[1m--------------------------------------------------------\\033[0m\")\n",
    "cm = confusion_matrix(y_test, y_pred_dec)\n",
    "# Display the confusion matrix\n",
    "disp = ConfusionMatrixDisplay(confusion_matrix=cm)\n",
    "disp.plot()\n",
    "# Show the plot\n",
    "plt.show()"
   ]
  },
  {
   "cell_type": "markdown",
   "id": "ec4977f1-8549-42b0-acf4-3f2891bef47c",
   "metadata": {},
   "source": [
    "### 3) Random Forest Classifier"
   ]
  },
  {
   "cell_type": "code",
   "execution_count": 38,
   "id": "d17a3c73-3061-4134-bec2-5f88707267c6",
   "metadata": {},
   "outputs": [
    {
     "name": "stdout",
     "output_type": "stream",
     "text": [
      "Training Accuracy    : 100.0 %\n",
      "Model Accuracy Score : 98.45 %\n",
      "\u001b[1m--------------------------------------------------------\u001b[0m\n",
      "Classification_Report: \n",
      "               precision    recall  f1-score   support\n",
      "\n",
      "           0       0.99      1.00      0.99      1939\n",
      "           1       0.84      0.61      0.70        61\n",
      "\n",
      "    accuracy                           0.98      2000\n",
      "   macro avg       0.91      0.80      0.85      2000\n",
      "weighted avg       0.98      0.98      0.98      2000\n",
      "\n",
      "\u001b[1m--------------------------------------------------------\u001b[0m\n"
     ]
    },
    {
     "data": {
      "image/png": "[encoded data removed]",
      "text/plain": [
       "<Figure size 640x480 with 2 Axes>"
      ]
     },
     "metadata": {},
     "output_type": "display_data"
    }
   ],
   "source": [
    "# Random Forest\n",
    "random_forest = RandomForestClassifier(n_estimators=100)\n",
    "random_forest.fit(X_train, y_train)\n",
    "y_pred_rf = random_forest.predict(X_test)\n",
    "random_forest.score(X_train, y_train)\n",
    "\n",
    "random_forest_train = round(random_forest.score(X_train, y_train) * 100, 2)\n",
    "random_forest_accuracy = round(accuracy_score(y_pred_rf, y_test) * 100, 2)\n",
    "\n",
    "print(\"Training Accuracy    :\",random_forest_train ,\"%\")\n",
    "print(\"Model Accuracy Score :\",random_forest_accuracy ,\"%\")\n",
    "print(\"\\033[1m--------------------------------------------------------\\033[0m\")\n",
    "print(\"Classification_Report: \\n\",classification_report(y_test,y_pred_rf))\n",
    "print(\"\\033[1m--------------------------------------------------------\\033[0m\")\n",
    "\n",
    "cm = confusion_matrix(y_test, y_pred_rf)\n",
    "# Display the confusion matrix\n",
    "disp = ConfusionMatrixDisplay(confusion_matrix=cm)\n",
    "disp.plot()\n",
    "# Show the plot\n",
    "plt.show()"
   ]
  },
  {
   "cell_type": "markdown",
   "id": "363da8ac-51ad-40de-9c8c-10def357ecbb",
   "metadata": {},
   "source": [
    "### 4) Support Vector Machine"
   ]
  },
  {
   "cell_type": "code",
   "execution_count": 39,
   "id": "720bcbd6-bf33-48e7-8a21-a2ef4e584f71",
   "metadata": {},
   "outputs": [
    {
     "name": "stdout",
     "output_type": "stream",
     "text": [
      "Training Accuracy    : 96.53 %\n",
      "Model Accuracy Score : 96.95 %\n",
      "\u001b[1m--------------------------------------------------------\u001b[0m\n",
      "Classification_Report: \n",
      "               precision    recall  f1-score   support\n",
      "\n",
      "           0       0.97      1.00      0.98      1939\n",
      "           1       0.00      0.00      0.00        61\n",
      "\n",
      "    accuracy                           0.97      2000\n",
      "   macro avg       0.48      0.50      0.49      2000\n",
      "weighted avg       0.94      0.97      0.95      2000\n",
      "\n",
      "\u001b[1m--------------------------------------------------------\u001b[0m\n"
     ]
    },
    {
     "data": {
      "image/png": "[encoded data removed]",
      "text/plain": [
       "<Figure size 640x480 with 2 Axes>"
      ]
     },
     "metadata": {},
     "output_type": "display_data"
    }
   ],
   "source": [
    "# Support Vector Machines\n",
    "svc = SVC()\n",
    "svc.fit(X_train, y_train)\n",
    "y_pred_svc = svc.predict(X_test)\n",
    "\n",
    "svc_train = round(svc.score(X_train, y_train) * 100, 2)\n",
    "svc_accuracy = round(accuracy_score(y_pred_svc, y_test) * 100, 2)\n",
    "\n",
    "print(\"Training Accuracy    :\",svc_train ,\"%\")\n",
    "print(\"Model Accuracy Score :\",svc_accuracy ,\"%\")\n",
    "print(\"\\033[1m--------------------------------------------------------\\033[0m\")\n",
    "print(\"Classification_Report: \\n\",classification_report(y_test,y_pred_svc))\n",
    "print(\"\\033[1m--------------------------------------------------------\\033[0m\")\n",
    "cm = confusion_matrix(y_test, y_pred_svc)\n",
    "# Display the confusion matrix\n",
    "disp = ConfusionMatrixDisplay(confusion_matrix=cm)\n",
    "disp.plot()\n",
    "# Show the plot\n",
    "plt.show()"
   ]
  },
  {
   "cell_type": "markdown",
   "id": "d2c18511-c82c-4a15-921f-76945849889b",
   "metadata": {},
   "source": [
    "## Results"
   ]
  },
  {
   "cell_type": "code",
   "execution_count": 41,
   "id": "1c390efb-bf5c-4464-8219-91967eb82a63",
   "metadata": {},
   "outputs": [],
   "source": [
    "models = pd.DataFrame({\n",
    "    'Model': [\n",
    "        'Support Vector Machines', 'Logistic Regression', 'Random Forest',\n",
    "        'Decision Tree'\n",
    "    ],\n",
    "    \n",
    "    'Training Accuracy':\n",
    "    [log_train, svc_train, decision_train, random_forest_train],\n",
    "    \n",
    "    'Model Accuracy Score': [\n",
    "        log_accuracy, svc_accuracy, decision_accuracy, random_forest_accuracy\n",
    "    ]\n",
    "})"
   ]
  },
  {
   "cell_type": "code",
   "execution_count": 56,
   "id": "3976e03a-e490-46ff-8079-0b1807fae69d",
   "metadata": {},
   "outputs": [
    {
     "data": {
      "text/html": [
       "<style type=\"text/css\">\n",
       "#T_4babc_row0_col0, #T_4babc_row1_col0, #T_4babc_row2_col0, #T_4babc_row3_col0 {\n",
       "  font-family: Roboto;\n",
       "  color: Black;\n",
       "  font-size: 15px;\n",
       "  border: solid 1px black;\n",
       "}\n",
       "#T_4babc_row0_col1, #T_4babc_row0_col2, #T_4babc_row1_col1 {\n",
       "  background-color: #b40426;\n",
       "  color: #f1f1f1;\n",
       "  font-family: Roboto;\n",
       "  color: Black;\n",
       "  font-size: 15px;\n",
       "  border: solid 1px black;\n",
       "}\n",
       "#T_4babc_row1_col2 {\n",
       "  background-color: #d4dbe6;\n",
       "  color: #000000;\n",
       "  font-family: Roboto;\n",
       "  color: Black;\n",
       "  font-size: 15px;\n",
       "  border: solid 1px black;\n",
       "}\n",
       "#T_4babc_row2_col1 {\n",
       "  background-color: #5f7fe8;\n",
       "  color: #f1f1f1;\n",
       "  font-family: Roboto;\n",
       "  color: Black;\n",
       "  font-size: 15px;\n",
       "  border: solid 1px black;\n",
       "}\n",
       "#T_4babc_row2_col2 {\n",
       "  background-color: #93b5fe;\n",
       "  color: #000000;\n",
       "  font-family: Roboto;\n",
       "  color: Black;\n",
       "  font-size: 15px;\n",
       "  border: solid 1px black;\n",
       "}\n",
       "#T_4babc_row3_col1, #T_4babc_row3_col2 {\n",
       "  background-color: #3b4cc0;\n",
       "  color: #f1f1f1;\n",
       "  font-family: Roboto;\n",
       "  color: Black;\n",
       "  font-size: 15px;\n",
       "  border: solid 1px black;\n",
       "}\n",
       "</style>\n",
       "<table id=\"T_4babc\">\n",
       "  <thead>\n",
       "    <tr>\n",
       "      <th id=\"T_4babc_level0_col0\" class=\"col_heading level0 col0\" >Model</th>\n",
       "      <th id=\"T_4babc_level0_col1\" class=\"col_heading level0 col1\" >Training Accuracy</th>\n",
       "      <th id=\"T_4babc_level0_col2\" class=\"col_heading level0 col2\" >Model Accuracy Score</th>\n",
       "    </tr>\n",
       "  </thead>\n",
       "  <tbody>\n",
       "    <tr>\n",
       "      <td id=\"T_4babc_row0_col0\" class=\"data row0 col0\" >Decision Tree</td>\n",
       "      <td id=\"T_4babc_row0_col1\" class=\"data row0 col1\" >100.000000</td>\n",
       "      <td id=\"T_4babc_row0_col2\" class=\"data row0 col2\" >98.450000</td>\n",
       "    </tr>\n",
       "    <tr>\n",
       "      <td id=\"T_4babc_row1_col0\" class=\"data row1 col0\" >Random Forest</td>\n",
       "      <td id=\"T_4babc_row1_col1\" class=\"data row1 col1\" >100.000000</td>\n",
       "      <td id=\"T_4babc_row1_col2\" class=\"data row1 col2\" >97.650000</td>\n",
       "    </tr>\n",
       "    <tr>\n",
       "      <td id=\"T_4babc_row2_col0\" class=\"data row2 col0\" >Support Vector Machines</td>\n",
       "      <td id=\"T_4babc_row2_col1\" class=\"data row2 col1\" >96.950000</td>\n",
       "      <td id=\"T_4babc_row2_col2\" class=\"data row2 col2\" >97.350000</td>\n",
       "    </tr>\n",
       "    <tr>\n",
       "      <td id=\"T_4babc_row3_col0\" class=\"data row3 col0\" >Logistic Regression</td>\n",
       "      <td id=\"T_4babc_row3_col1\" class=\"data row3 col1\" >96.530000</td>\n",
       "      <td id=\"T_4babc_row3_col2\" class=\"data row3 col2\" >96.950000</td>\n",
       "    </tr>\n",
       "  </tbody>\n",
       "</table>\n"
      ],
      "text/plain": [
       "<pandas.io.formats.style.Styler at 0x1e2fd401df0>"
      ]
     },
     "execution_count": 56,
     "metadata": {},
     "output_type": "execute_result"
    }
   ],
   "source": [
    "pd.set_option('display.precision',2)\n",
    "models_sorted = models.sort_values(by='Model Accuracy Score', ascending=False)\n",
    "\n",
    "styled_models = models_sorted.style.background_gradient(cmap='coolwarm').set_properties(**{\n",
    "    'font-family': 'Roboto',\n",
    "    'color': 'Black',  # Correct spelling\n",
    "    'font-size': '15px',\n",
    "    'border': 'solid 1px black'\n",
    "})\n",
    "\n",
    "styled_models.hide(axis='index')"
   ]
  },
  {
   "cell_type": "markdown",
   "id": "565f2621-f9b4-4c83-b523-24c9816daa92",
   "metadata": {
    "jp-MarkdownHeadingCollapsed": true
   },
   "source": [
    "## Prediction"
   ]
  },
  {
   "cell_type": "code",
   "execution_count": 58,
   "id": "69745179-a14a-439f-8208-65c2ff81876f",
   "metadata": {},
   "outputs": [
    {
     "name": "stdout",
     "output_type": "stream",
     "text": [
      "[0 0 0 ... 0 1 0]\n"
     ]
    }
   ],
   "source": [
    "prediction1 = random_forest.predict(X_test)\n",
    "print(prediction1)"
   ]
  },
  {
   "cell_type": "code",
   "execution_count": 59,
   "id": "4eae116f-0dc5-4fe4-9780-5e768bef8d71",
   "metadata": {},
   "outputs": [
    {
     "data": {
      "text/html": [
       "<style type=\"text/css\">\n",
       "#T_ff076_row0_col0, #T_ff076_row0_col1, #T_ff076_row1_col0, #T_ff076_row1_col1, #T_ff076_row2_col0, #T_ff076_row2_col1, #T_ff076_row3_col0, #T_ff076_row3_col1, #T_ff076_row4_col0, #T_ff076_row4_col1 {\n",
       "  background-color: #3b4cc0;\n",
       "  color: #f1f1f1;\n",
       "  font-family: Lucida Calligraphy;\n",
       "  color: LigntGreen;\n",
       "  font-size: 15px;\n",
       "}\n",
       "</style>\n",
       "<table id=\"T_ff076\">\n",
       "  <thead>\n",
       "    <tr>\n",
       "      <th class=\"blank level0\" >&nbsp;</th>\n",
       "      <th id=\"T_ff076_level0_col0\" class=\"col_heading level0 col0\" >Actual</th>\n",
       "      <th id=\"T_ff076_level0_col1\" class=\"col_heading level0 col1\" >Predicted</th>\n",
       "    </tr>\n",
       "  </thead>\n",
       "  <tbody>\n",
       "    <tr>\n",
       "      <th id=\"T_ff076_level0_row0\" class=\"row_heading level0 row0\" >3666</th>\n",
       "      <td id=\"T_ff076_row0_col0\" class=\"data row0 col0\" >0</td>\n",
       "      <td id=\"T_ff076_row0_col1\" class=\"data row0 col1\" >0</td>\n",
       "    </tr>\n",
       "    <tr>\n",
       "      <th id=\"T_ff076_level0_row1\" class=\"row_heading level0 row1\" >7599</th>\n",
       "      <td id=\"T_ff076_row1_col0\" class=\"data row1 col0\" >0</td>\n",
       "      <td id=\"T_ff076_row1_col1\" class=\"data row1 col1\" >0</td>\n",
       "    </tr>\n",
       "    <tr>\n",
       "      <th id=\"T_ff076_level0_row2\" class=\"row_heading level0 row2\" >9535</th>\n",
       "      <td id=\"T_ff076_row2_col0\" class=\"data row2 col0\" >0</td>\n",
       "      <td id=\"T_ff076_row2_col1\" class=\"data row2 col1\" >0</td>\n",
       "    </tr>\n",
       "    <tr>\n",
       "      <th id=\"T_ff076_level0_row3\" class=\"row_heading level0 row3\" >1941</th>\n",
       "      <td id=\"T_ff076_row3_col0\" class=\"data row3 col0\" >0</td>\n",
       "      <td id=\"T_ff076_row3_col1\" class=\"data row3 col1\" >0</td>\n",
       "    </tr>\n",
       "    <tr>\n",
       "      <th id=\"T_ff076_level0_row4\" class=\"row_heading level0 row4\" >1793</th>\n",
       "      <td id=\"T_ff076_row4_col0\" class=\"data row4 col0\" >0</td>\n",
       "      <td id=\"T_ff076_row4_col1\" class=\"data row4 col1\" >0</td>\n",
       "    </tr>\n",
       "  </tbody>\n",
       "</table>\n"
      ],
      "text/plain": [
       "<pandas.io.formats.style.Styler at 0x1e2fd4022a0>"
      ]
     },
     "execution_count": 59,
     "metadata": {},
     "output_type": "execute_result"
    }
   ],
   "source": [
    "cross_checking = pd.DataFrame({'Actual' : y_test , 'Predicted' : prediction1})\n",
    "cross_checking.sample(5).style.background_gradient(\n",
    "        cmap='coolwarm').set_properties(**{\n",
    "            'font-family': 'Lucida Calligraphy',\n",
    "            'color': 'LigntGreen',\n",
    "            'font-size': '15px'\n",
    "        })"
   ]
  },
  {
   "cell_type": "code",
   "execution_count": null,
   "id": "7a8dfa24-fce7-4632-a4e8-438a83ce161d",
   "metadata": {},
   "outputs": [],
   "source": []
  }
 ],
 "metadata": {
  "kernelspec": {
   "display_name": "Python 3 (ipykernel)",
   "language": "python",
   "name": "python3"
  },
  "language_info": {
   "codemirror_mode": {
    "name": "ipython",
    "version": 3
   },
   "file_extension": ".py",
   "mimetype": "text/x-python",
   "name": "python",
   "nbconvert_exporter": "python",
   "pygments_lexer": "ipython3",
   "version": "3.12.2"
  }
 },
 "nbformat": 4,
 "nbformat_minor": 5
}
